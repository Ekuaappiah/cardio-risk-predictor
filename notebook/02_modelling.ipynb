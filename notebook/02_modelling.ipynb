{
 "cells": [
  {
   "cell_type": "markdown",
   "id": "c35f3625-7158-4caf-bf2b-f26ef63e9999",
   "metadata": {},
   "source": [
    "## IMPORTING NECESSARY LIBRARIES"
   ]
  },
  {
   "cell_type": "code",
   "execution_count": 1,
   "id": "8e42bfeb-e5c0-46bd-9674-3aaa0f9ba8fe",
   "metadata": {},
   "outputs": [],
   "source": [
    "# Data manipulation and analysis\n",
    "import pandas as pd\n",
    "import numpy as np\n",
    "\n",
    "# Data visualization\n",
    "import matplotlib.pyplot as plt\n",
    "import seaborn as sns\n",
    "\n",
    "# Machine learning models\n",
    "from sklearn.model_selection import train_test_split\n",
    "\n",
    "# Classification models\n",
    "from sklearn.linear_model import LogisticRegression\n",
    "from sklearn.svm import SVC\n",
    "from sklearn.neighbors import KNeighborsClassifier\n",
    "from sklearn.ensemble import RandomForestClassifier\n",
    "\n",
    "# Regression models\n",
    "from sklearn.linear_model import LinearRegression\n",
    "from sklearn.tree import DecisionTreeRegressor\n",
    "from sklearn.ensemble import RandomForestRegressor\n",
    "from sklearn.svm import SVR\n",
    "from sklearn.neighbors import KNeighborsRegressor\n",
    "\n",
    "# Hyperparameter tuning and cross-validation\n",
    "from sklearn.model_selection import GridSearchCV, cross_val_score, StratifiedKFold, learning_curve, ShuffleSplit\n",
    "\n",
    "# Evaluation metrics\n",
    "from sklearn.metrics import accuracy_score, classification_report, confusion_matrix, f1_score, precision_score, recall_score\n",
    "from sklearn.metrics import mean_squared_error, r2_score\n",
    "\n",
    "# Suppress warnings\n",
    "import warnings\n",
    "warnings.filterwarnings(\"ignore\")"
   ]
  },
  {
   "cell_type": "markdown",
   "id": "88fb7228-0d26-4f5e-84f6-023e2f6c996c",
   "metadata": {},
   "source": [
    "# LOADING DATA"
   ]
  },
  {
   "cell_type": "code",
   "execution_count": 2,
   "id": "e720d627-c3d0-4f5e-8a4c-bb60bff8afab",
   "metadata": {},
   "outputs": [],
   "source": [
    "try:\n",
    "    df = pd.read_csv('../data/heart.csv')\n",
    "except FileNotFoundError:\n",
    "    print(\"File not found\")"
   ]
  },
  {
   "cell_type": "code",
   "execution_count": 3,
   "id": "aa649daf-ae12-4256-b9cd-0d4af90fcbe9",
   "metadata": {},
   "outputs": [
    {
     "data": {
      "text/plain": [
       "Index(['age', 'sex', 'cp', 'trestbps', 'chol', 'fbs', 'restecg', 'thalach',\n",
       "       'exang', 'oldpeak', 'slope', 'ca', 'thal', 'target'],\n",
       "      dtype='object')"
      ]
     },
     "execution_count": 3,
     "metadata": {},
     "output_type": "execute_result"
    }
   ],
   "source": [
    "df.columns"
   ]
  },
  {
   "cell_type": "code",
   "execution_count": null,
   "id": "c08c9293-fb88-43df-950d-9df7c74844a3",
   "metadata": {},
   "outputs": [],
   "source": []
  },
  {
   "cell_type": "markdown",
   "id": "2000813e-94f2-4c96-9659-2db8b032e059",
   "metadata": {},
   "source": [
    "## SPLITTING DATA"
   ]
  },
  {
   "cell_type": "code",
   "execution_count": 4,
   "id": "231b59c0-d759-4a56-9fdf-61a12abd6576",
   "metadata": {},
   "outputs": [],
   "source": [
    "X = df.drop(columns=['target'])  \n",
    "y = df['target'] "
   ]
  },
  {
   "cell_type": "code",
   "execution_count": 5,
   "id": "82ed24ec-ba72-4775-83e8-da2d3070742f",
   "metadata": {},
   "outputs": [],
   "source": [
    "# First, split into training (80%) and temporary set (20%)\n",
    "X_train, X_temp, y_train, y_temp = train_test_split(X, y, test_size=0.2, random_state=42)\n",
    "\n",
    "# Second, split the temporary set into validation (50%) and test (50%) sets (both 10% of the total data)\n",
    "X_val, X_test, y_val, y_test = train_test_split(X_temp, y_temp, test_size=0.5, random_state=42)"
   ]
  },
  {
   "cell_type": "markdown",
   "id": "01c160db-1836-465e-b184-294ef6eb0cbc",
   "metadata": {},
   "source": [
    "## MODEL TRAINING"
   ]
  },
  {
   "cell_type": "code",
   "execution_count": 12,
   "id": "37b10d25-e611-4f25-9ad6-573b82da828c",
   "metadata": {},
   "outputs": [],
   "source": [
    "models = [\n",
    "    ('Logistic Regression', LogisticRegression()),\n",
    "    ('SVM', SVC()),\n",
    "    ('KNN', KNeighborsClassifier()),\n",
    "    ('Random Forest Classifier', RandomForestClassifier()),\n",
    "    ('Decision Tree Regressor', DecisionTreeRegressor()),  # Example regression model\n",
    "    ('Random Forest Regressor', RandomForestRegressor())  # Example regression model\n",
    "]\n"
   ]
  },
  {
   "cell_type": "code",
   "execution_count": 13,
   "id": "0e0d03ee-418e-4fe9-a24e-2c7e5ec2fc4f",
   "metadata": {},
   "outputs": [
    {
     "name": "stdout",
     "output_type": "stream",
     "text": [
      "Training Logistic Regression...\n",
      "Logistic Regression Classification Report:\n",
      "              precision    recall  f1-score   support\n",
      "\n",
      "           0       0.88      0.69      0.77        52\n",
      "           1       0.74      0.90      0.81        50\n",
      "\n",
      "    accuracy                           0.79       102\n",
      "   macro avg       0.81      0.80      0.79       102\n",
      "weighted avg       0.81      0.79      0.79       102\n",
      "\n",
      "\n",
      "--------------------------------------------------\n",
      "\n",
      "Training SVM...\n",
      "SVM Classification Report:\n",
      "              precision    recall  f1-score   support\n",
      "\n",
      "           0       0.68      0.50      0.58        52\n",
      "           1       0.59      0.76      0.67        50\n",
      "\n",
      "    accuracy                           0.63       102\n",
      "   macro avg       0.64      0.63      0.62       102\n",
      "weighted avg       0.64      0.63      0.62       102\n",
      "\n",
      "\n",
      "--------------------------------------------------\n",
      "\n",
      "Training KNN...\n",
      "KNN Classification Report:\n",
      "              precision    recall  f1-score   support\n",
      "\n",
      "           0       0.77      0.65      0.71        52\n",
      "           1       0.69      0.80      0.74        50\n",
      "\n",
      "    accuracy                           0.73       102\n",
      "   macro avg       0.73      0.73      0.72       102\n",
      "weighted avg       0.73      0.73      0.72       102\n",
      "\n",
      "\n",
      "--------------------------------------------------\n",
      "\n",
      "Training Random Forest Classifier...\n",
      "Random Forest Classifier Classification Report:\n",
      "              precision    recall  f1-score   support\n",
      "\n",
      "           0       0.98      1.00      0.99        52\n",
      "           1       1.00      0.98      0.99        50\n",
      "\n",
      "    accuracy                           0.99       102\n",
      "   macro avg       0.99      0.99      0.99       102\n",
      "weighted avg       0.99      0.99      0.99       102\n",
      "\n",
      "\n",
      "--------------------------------------------------\n",
      "\n",
      "Training Decision Tree Regressor...\n",
      "Decision Tree Regressor - Mean Squared Error: 0.0098, R2 Score: 0.9608\n",
      "\n",
      "--------------------------------------------------\n",
      "\n",
      "Training Random Forest Regressor...\n",
      "Random Forest Regressor - Mean Squared Error: 0.0153, R2 Score: 0.9387\n",
      "\n",
      "--------------------------------------------------\n",
      "\n"
     ]
    }
   ],
   "source": [
    "model_results = {}\n",
    "\n",
    "# Loop over each model\n",
    "for model_name, model in models:\n",
    "    print(f\"Training {model_name}...\")\n",
    "    \n",
    "    # Train the model\n",
    "    model.fit(X_train, y_train)\n",
    "    \n",
    "    # Make predictions on validation set\n",
    "    y_pred = model.predict(X_val)\n",
    "    \n",
    "    # Evaluate the model\n",
    "    if model_name in ['Logistic Regression', 'SVM', 'KNN', 'Random Forest Classifier']:\n",
    "        # For classification models\n",
    "        report = classification_report(y_val, y_pred)\n",
    "        model_results[model_name] = report\n",
    "        print(f\"{model_name} Classification Report:\\n{report}\")\n",
    "        \n",
    "    else:\n",
    "        # For regression models\n",
    "        mse = mean_squared_error(y_val, y_pred)\n",
    "        r2 = r2_score(y_val, y_pred)\n",
    "        model_results[model_name] = {'MSE': mse, 'R2': r2}\n",
    "        print(f\"{model_name} - Mean Squared Error: {mse:.4f}, R2 Score: {r2:.4f}\")\n",
    "    \n",
    "    print(\"\\n\" + \"-\"*50 + \"\\n\")\n"
   ]
  },
  {
   "cell_type": "code",
   "execution_count": 14,
   "id": "2cfeb027-10f1-4ee0-b9e8-546b310a617d",
   "metadata": {},
   "outputs": [
    {
     "name": "stdout",
     "output_type": "stream",
     "text": [
      "Evaluating Logistic Regression on test set...\n",
      "Logistic Regression Test Set Classification Report:\n",
      "              precision    recall  f1-score   support\n",
      "\n",
      "           0       0.81      0.70      0.75        50\n",
      "           1       0.75      0.85      0.80        53\n",
      "\n",
      "    accuracy                           0.78       103\n",
      "   macro avg       0.78      0.77      0.77       103\n",
      "weighted avg       0.78      0.78      0.78       103\n",
      "\n",
      "\n",
      "--------------------------------------------------\n",
      "\n",
      "Evaluating SVM on test set...\n",
      "SVM Test Set Classification Report:\n",
      "              precision    recall  f1-score   support\n",
      "\n",
      "           0       0.73      0.72      0.73        50\n",
      "           1       0.74      0.75      0.75        53\n",
      "\n",
      "    accuracy                           0.74       103\n",
      "   macro avg       0.74      0.74      0.74       103\n",
      "weighted avg       0.74      0.74      0.74       103\n",
      "\n",
      "\n",
      "--------------------------------------------------\n",
      "\n",
      "Evaluating KNN on test set...\n",
      "KNN Test Set Classification Report:\n",
      "              precision    recall  f1-score   support\n",
      "\n",
      "           0       0.70      0.80      0.75        50\n",
      "           1       0.78      0.68      0.73        53\n",
      "\n",
      "    accuracy                           0.74       103\n",
      "   macro avg       0.74      0.74      0.74       103\n",
      "weighted avg       0.74      0.74      0.74       103\n",
      "\n",
      "\n",
      "--------------------------------------------------\n",
      "\n",
      "Evaluating Random Forest Classifier on test set...\n",
      "Random Forest Classifier Test Set Classification Report:\n",
      "              precision    recall  f1-score   support\n",
      "\n",
      "           0       0.96      1.00      0.98        50\n",
      "           1       1.00      0.96      0.98        53\n",
      "\n",
      "    accuracy                           0.98       103\n",
      "   macro avg       0.98      0.98      0.98       103\n",
      "weighted avg       0.98      0.98      0.98       103\n",
      "\n",
      "\n",
      "--------------------------------------------------\n",
      "\n",
      "Evaluating Decision Tree Regressor on test set...\n",
      "Decision Tree Regressor Test Set - MSE: 0.0194, R2: 0.9223\n",
      "\n",
      "--------------------------------------------------\n",
      "\n",
      "Evaluating Random Forest Regressor on test set...\n",
      "Random Forest Regressor Test Set - MSE: 0.0142, R2: 0.9430\n",
      "\n",
      "--------------------------------------------------\n",
      "\n"
     ]
    }
   ],
   "source": [
    "for model_name, model in models:\n",
    "    print(f\"Evaluating {model_name} on test set...\")\n",
    "\n",
    "    # Make predictions on the test set\n",
    "    y_test_pred = model.predict(X_test)\n",
    "\n",
    "    # Evaluate the model\n",
    "    if model_name in ['Logistic Regression', 'SVM', 'KNN', 'Random Forest Classifier']:\n",
    "        print(f\"{model_name} Test Set Classification Report:\\n{classification_report(y_test, y_test_pred)}\")\n",
    "        \n",
    "    else:\n",
    "        mse_test = mean_squared_error(y_test, y_test_pred)\n",
    "        r2_test = r2_score(y_test, y_test_pred)\n",
    "        print(f\"{model_name} Test Set - MSE: {mse_test:.4f}, R2: {r2_test:.4f}\")\n",
    "    \n",
    "    print(\"\\n\" + \"-\"*50 + \"\\n\")"
   ]
  },
  {
   "cell_type": "code",
   "execution_count": null,
   "id": "81c19e4c-37a3-400f-94d6-2175de919f4a",
   "metadata": {},
   "outputs": [],
   "source": []
  }
 ],
 "metadata": {
  "kernelspec": {
   "display_name": "Python (Cardio Risk Predictor)",
   "language": "python",
   "name": "cardio_risk_predictor_kernel"
  },
  "language_info": {
   "codemirror_mode": {
    "name": "ipython",
    "version": 3
   },
   "file_extension": ".py",
   "mimetype": "text/x-python",
   "name": "python",
   "nbconvert_exporter": "python",
   "pygments_lexer": "ipython3",
   "version": "3.11.5"
  }
 },
 "nbformat": 4,
 "nbformat_minor": 5
}
